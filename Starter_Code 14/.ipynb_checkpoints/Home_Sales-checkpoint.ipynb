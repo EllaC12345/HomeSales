{
 "cells": [
  {
   "cell_type": "code",
   "execution_count": 1,
   "metadata": {
    "colab": {
     "base_uri": "https://localhost:8080/"
    },
    "id": "a_KW73O2e3dw",
    "outputId": "fa5fd2b3-e2de-491b-ee1c-405317ba7ebc"
   },
   "outputs": [],
   "source": [
    "# Import findspark and initialize. \n",
    "import findspark\n",
    "findspark.init()"
   ]
  },
  {
   "cell_type": "code",
   "execution_count": 2,
   "metadata": {},
   "outputs": [],
   "source": [
    "from pyspark.sql.types import StructField, StringType, IntegerType, StructType\n",
    "from pyspark.sql.functions import col, expr, round\n",
    "from pyspark.sql.functions import year, to_date\n",
    "from pyspark.sql.functions import to_timestamp\n",
    "from pyspark.sql.functions import avg\n",
    "from pyspark.sql.types import FloatType, IntegerType\n",
    "from pyspark.sql.functions import format_number"
   ]
  },
  {
   "cell_type": "code",
   "execution_count": 3,
   "metadata": {
    "id": "2XbWNf1Te5fM"
   },
   "outputs": [
    {
     "name": "stderr",
     "output_type": "stream",
     "text": [
      "23/11/08 14:39:03 WARN Utils: Your hostname, Ellas-MacBook-Air.local resolves to a loopback address: 127.0.0.1; using 10.80.80.78 instead (on interface en0)\n",
      "23/11/08 14:39:03 WARN Utils: Set SPARK_LOCAL_IP if you need to bind to another address\n",
      "Setting default log level to \"WARN\".\n",
      "To adjust logging level use sc.setLogLevel(newLevel). For SparkR, use setLogLevel(newLevel).\n",
      "23/11/08 14:39:04 WARN NativeCodeLoader: Unable to load native-hadoop library for your platform... using builtin-java classes where applicable\n"
     ]
    }
   ],
   "source": [
    "# Import packages\n",
    "from pyspark.sql import SparkSession\n",
    "import time\n",
    "\n",
    "# Create a SparkSession\n",
    "spark = SparkSession.builder.appName(\"SparkSQL\").getOrCreate()"
   ]
  },
  {
   "cell_type": "code",
   "execution_count": 4,
   "metadata": {
    "colab": {
     "base_uri": "https://localhost:8080/"
    },
    "id": "wOJqxG_RPSwp",
    "outputId": "7857ef9f-5b04-405d-f5aa-e535dfe7870c"
   },
   "outputs": [],
   "source": [
    "# 1. Read in the AWS S3 bucket into a DataFrame.\n",
    "from pyspark import SparkFiles\n",
    "url = \"https://2u-data-curriculum-team.s3.amazonaws.com/dataviz-classroom/v1.2/22-big-data/home_sales_revised.csv\"\n",
    "\n"
   ]
  },
  {
   "cell_type": "code",
   "execution_count": 5,
   "metadata": {
    "id": "RoljcJ7WPpnm"
   },
   "outputs": [
    {
     "name": "stderr",
     "output_type": "stream",
     "text": [
      "\r",
      "[Stage 0:>                                                          (0 + 1) / 1]\r",
      "\r",
      "                                                                                \r"
     ]
    },
    {
     "name": "stdout",
     "output_type": "stream",
     "text": [
      "+--------------------+----------+----------+------+--------+---------+-----------+--------+------+----------+----+\n",
      "|                  id|      date|date_built| price|bedrooms|bathrooms|sqft_living|sqft_lot|floors|waterfront|view|\n",
      "+--------------------+----------+----------+------+--------+---------+-----------+--------+------+----------+----+\n",
      "|f8a53099-ba1c-47d...|2022-04-08|      2016|936923|       4|        3|       3167|   11733|     2|         1|  76|\n",
      "|7530a2d8-1ae3-451...|2021-06-13|      2013|379628|       2|        2|       2235|   14384|     1|         0|  23|\n",
      "|43de979c-0bf0-4c9...|2019-04-12|      2014|417866|       2|        2|       2127|   10575|     2|         0|   0|\n",
      "|b672c137-b88c-48b...|2019-10-16|      2016|239895|       2|        2|       1631|   11149|     2|         0|   0|\n",
      "|e0726d4d-d595-407...|2022-01-08|      2017|424418|       3|        2|       2249|   13878|     2|         0|   4|\n",
      "|5aa00529-0533-46b...|2019-01-30|      2017|218712|       2|        3|       1965|   14375|     2|         0|   7|\n",
      "|131492a1-72e2-4a8...|2020-02-08|      2017|419199|       2|        3|       2062|    8876|     2|         0|   6|\n",
      "|8d54a71b-c520-44e...|2019-07-21|      2010|323956|       2|        3|       1506|   11816|     1|         0|  25|\n",
      "|e81aacfe-17fe-46b...|2020-06-16|      2016|181925|       3|        3|       2137|   11709|     2|         0|  22|\n",
      "|2ed8d509-7372-46d...|2021-08-06|      2015|258710|       3|        3|       1918|    9666|     1|         0|  25|\n",
      "|f876d86f-3c9f-42b...|2019-02-27|      2011|167864|       3|        3|       2471|   13924|     2|         0|  15|\n",
      "|0a2bd445-8508-4d8...|2021-12-30|      2014|337527|       2|        3|       1926|   12556|     1|         0|  23|\n",
      "|941bad30-eb49-4a7...|2020-05-09|      2015|229896|       3|        3|       2197|    8641|     1|         0|   3|\n",
      "|dd61eb34-6589-4c0...|2021-07-25|      2016|210247|       3|        2|       1672|   11986|     2|         0|  28|\n",
      "|f1e4cef7-d151-439...|2019-02-01|      2011|398667|       2|        3|       2331|   11356|     1|         0|   7|\n",
      "|ea620c7b-c2f7-4c6...|2021-05-31|      2011|437958|       3|        3|       2356|   11052|     1|         0|  26|\n",
      "|f233cb41-6f33-4b0...|2021-07-18|      2016|437375|       4|        3|       1704|   11721|     2|         0|  34|\n",
      "|c797ca12-52cd-4b1...|2019-06-08|      2015|288650|       2|        3|       2100|   10419|     2|         0|   7|\n",
      "|0cfe57f3-28c2-472...|2019-10-04|      2015|308313|       3|        3|       1960|    9453|     2|         0|   2|\n",
      "|4566cd2a-ac6e-435...|2019-07-15|      2016|177541|       3|        3|       2130|   10517|     2|         0|  25|\n",
      "+--------------------+----------+----------+------+--------+---------+-----------+--------+------+----------+----+\n",
      "only showing top 20 rows\n",
      "\n"
     ]
    }
   ],
   "source": [
    "# 2. Create a temporary view of the DataFrame.\n",
    "spark.sparkContext.addFile(url)\n",
    "df = spark.read.csv(SparkFiles.get(\"home_sales_revised.csv\"), sep=\",\", header=True)\n",
    "\n",
    "# Show DataFrame\n",
    "df.show()\n"
   ]
  },
  {
   "cell_type": "code",
   "execution_count": 6,
   "metadata": {},
   "outputs": [
    {
     "name": "stdout",
     "output_type": "stream",
     "text": [
      "+--------------------+----------+----------+------+--------+---------+-----------+--------+------+----------+----+------------+----------+\n",
      "|                  id|      date|date_built| price|bedrooms|bathrooms|sqft_living|sqft_lot|floors|waterfront|view|Year_of_sale|Year_built|\n",
      "+--------------------+----------+----------+------+--------+---------+-----------+--------+------+----------+----+------------+----------+\n",
      "|f8a53099-ba1c-47d...|2022-04-08|2016-01-01|936923|       4|        3|       3167|   11733|     2|         1|  76|        2022|      2016|\n",
      "|7530a2d8-1ae3-451...|2021-06-13|2013-01-01|379628|       2|        2|       2235|   14384|     1|         0|  23|        2021|      2013|\n",
      "|43de979c-0bf0-4c9...|2019-04-12|2014-01-01|417866|       2|        2|       2127|   10575|     2|         0|   0|        2019|      2014|\n",
      "|b672c137-b88c-48b...|2019-10-16|2016-01-01|239895|       2|        2|       1631|   11149|     2|         0|   0|        2019|      2016|\n",
      "|e0726d4d-d595-407...|2022-01-08|2017-01-01|424418|       3|        2|       2249|   13878|     2|         0|   4|        2022|      2017|\n",
      "|5aa00529-0533-46b...|2019-01-30|2017-01-01|218712|       2|        3|       1965|   14375|     2|         0|   7|        2019|      2017|\n",
      "|131492a1-72e2-4a8...|2020-02-08|2017-01-01|419199|       2|        3|       2062|    8876|     2|         0|   6|        2020|      2017|\n",
      "|8d54a71b-c520-44e...|2019-07-21|2010-01-01|323956|       2|        3|       1506|   11816|     1|         0|  25|        2019|      2010|\n",
      "|e81aacfe-17fe-46b...|2020-06-16|2016-01-01|181925|       3|        3|       2137|   11709|     2|         0|  22|        2020|      2016|\n",
      "|2ed8d509-7372-46d...|2021-08-06|2015-01-01|258710|       3|        3|       1918|    9666|     1|         0|  25|        2021|      2015|\n",
      "|f876d86f-3c9f-42b...|2019-02-27|2011-01-01|167864|       3|        3|       2471|   13924|     2|         0|  15|        2019|      2011|\n",
      "|0a2bd445-8508-4d8...|2021-12-30|2014-01-01|337527|       2|        3|       1926|   12556|     1|         0|  23|        2021|      2014|\n",
      "|941bad30-eb49-4a7...|2020-05-09|2015-01-01|229896|       3|        3|       2197|    8641|     1|         0|   3|        2020|      2015|\n",
      "|dd61eb34-6589-4c0...|2021-07-25|2016-01-01|210247|       3|        2|       1672|   11986|     2|         0|  28|        2021|      2016|\n",
      "|f1e4cef7-d151-439...|2019-02-01|2011-01-01|398667|       2|        3|       2331|   11356|     1|         0|   7|        2019|      2011|\n",
      "|ea620c7b-c2f7-4c6...|2021-05-31|2011-01-01|437958|       3|        3|       2356|   11052|     1|         0|  26|        2021|      2011|\n",
      "|f233cb41-6f33-4b0...|2021-07-18|2016-01-01|437375|       4|        3|       1704|   11721|     2|         0|  34|        2021|      2016|\n",
      "|c797ca12-52cd-4b1...|2019-06-08|2015-01-01|288650|       2|        3|       2100|   10419|     2|         0|   7|        2019|      2015|\n",
      "|0cfe57f3-28c2-472...|2019-10-04|2015-01-01|308313|       3|        3|       1960|    9453|     2|         0|   2|        2019|      2015|\n",
      "|4566cd2a-ac6e-435...|2019-07-15|2016-01-01|177541|       3|        3|       2130|   10517|     2|         0|  25|        2019|      2016|\n",
      "+--------------------+----------+----------+------+--------+---------+-----------+--------+------+----------+----+------------+----------+\n",
      "only showing top 20 rows\n",
      "\n"
     ]
    }
   ],
   "source": [
    "\n",
    "# Convert the \"date\" column to a date type\n",
    "df = df.withColumn(\"date\", to_date(df[\"date\"]))\n",
    "df = df.withColumn(\"date_built\", to_date(df[\"date_built\"]))\n",
    "\n",
    "# Extract the year from the \"date\" and \"date_built\" columns\n",
    "df_with_year = df.withColumn(\"Year_of_sale\", year(df[\"date\"])).withColumn(\"Year_built\", year(df[\"date_built\"]))\n",
    "\n",
    "# Show the DataFrame with the extracted year\n",
    "df_with_year.show()\n",
    "\n",
    "\n"
   ]
  },
  {
   "cell_type": "code",
   "execution_count": 7,
   "metadata": {
    "colab": {
     "base_uri": "https://localhost:8080/"
    },
    "id": "L6fkwOeOmqvq",
    "outputId": "bdded620-79c4-488d-c7a5-91c6799c419e"
   },
   "outputs": [
    {
     "name": "stdout",
     "output_type": "stream",
     "text": [
      "root\n",
      " |-- id: string (nullable = true)\n",
      " |-- date: date (nullable = true)\n",
      " |-- date_built: date (nullable = true)\n",
      " |-- price: float (nullable = true)\n",
      " |-- bedrooms: integer (nullable = true)\n",
      " |-- bathrooms: integer (nullable = true)\n",
      " |-- sqft_living: integer (nullable = true)\n",
      " |-- sqft_lot: integer (nullable = true)\n",
      " |-- floors: integer (nullable = true)\n",
      " |-- waterfront: string (nullable = true)\n",
      " |-- view: string (nullable = true)\n",
      " |-- Year_of_sale: integer (nullable = true)\n",
      " |-- Year_built: integer (nullable = true)\n",
      "\n",
      "+--------------------+----------+----------+--------+--------+---------+-----------+--------+------+----------+----+------------+----------+\n",
      "|                  id|      date|date_built|   price|bedrooms|bathrooms|sqft_living|sqft_lot|floors|waterfront|view|Year_of_sale|Year_built|\n",
      "+--------------------+----------+----------+--------+--------+---------+-----------+--------+------+----------+----+------------+----------+\n",
      "|f8a53099-ba1c-47d...|2022-04-08|2016-01-01|936923.0|       4|        3|       3167|   11733|     2|         1|  76|        2022|      2016|\n",
      "|7530a2d8-1ae3-451...|2021-06-13|2013-01-01|379628.0|       2|        2|       2235|   14384|     1|         0|  23|        2021|      2013|\n",
      "|43de979c-0bf0-4c9...|2019-04-12|2014-01-01|417866.0|       2|        2|       2127|   10575|     2|         0|   0|        2019|      2014|\n",
      "|b672c137-b88c-48b...|2019-10-16|2016-01-01|239895.0|       2|        2|       1631|   11149|     2|         0|   0|        2019|      2016|\n",
      "|e0726d4d-d595-407...|2022-01-08|2017-01-01|424418.0|       3|        2|       2249|   13878|     2|         0|   4|        2022|      2017|\n",
      "|5aa00529-0533-46b...|2019-01-30|2017-01-01|218712.0|       2|        3|       1965|   14375|     2|         0|   7|        2019|      2017|\n",
      "|131492a1-72e2-4a8...|2020-02-08|2017-01-01|419199.0|       2|        3|       2062|    8876|     2|         0|   6|        2020|      2017|\n",
      "|8d54a71b-c520-44e...|2019-07-21|2010-01-01|323956.0|       2|        3|       1506|   11816|     1|         0|  25|        2019|      2010|\n",
      "|e81aacfe-17fe-46b...|2020-06-16|2016-01-01|181925.0|       3|        3|       2137|   11709|     2|         0|  22|        2020|      2016|\n",
      "|2ed8d509-7372-46d...|2021-08-06|2015-01-01|258710.0|       3|        3|       1918|    9666|     1|         0|  25|        2021|      2015|\n",
      "|f876d86f-3c9f-42b...|2019-02-27|2011-01-01|167864.0|       3|        3|       2471|   13924|     2|         0|  15|        2019|      2011|\n",
      "|0a2bd445-8508-4d8...|2021-12-30|2014-01-01|337527.0|       2|        3|       1926|   12556|     1|         0|  23|        2021|      2014|\n",
      "|941bad30-eb49-4a7...|2020-05-09|2015-01-01|229896.0|       3|        3|       2197|    8641|     1|         0|   3|        2020|      2015|\n",
      "|dd61eb34-6589-4c0...|2021-07-25|2016-01-01|210247.0|       3|        2|       1672|   11986|     2|         0|  28|        2021|      2016|\n",
      "|f1e4cef7-d151-439...|2019-02-01|2011-01-01|398667.0|       2|        3|       2331|   11356|     1|         0|   7|        2019|      2011|\n",
      "|ea620c7b-c2f7-4c6...|2021-05-31|2011-01-01|437958.0|       3|        3|       2356|   11052|     1|         0|  26|        2021|      2011|\n",
      "|f233cb41-6f33-4b0...|2021-07-18|2016-01-01|437375.0|       4|        3|       1704|   11721|     2|         0|  34|        2021|      2016|\n",
      "|c797ca12-52cd-4b1...|2019-06-08|2015-01-01|288650.0|       2|        3|       2100|   10419|     2|         0|   7|        2019|      2015|\n",
      "|0cfe57f3-28c2-472...|2019-10-04|2015-01-01|308313.0|       3|        3|       1960|    9453|     2|         0|   2|        2019|      2015|\n",
      "|4566cd2a-ac6e-435...|2019-07-15|2016-01-01|177541.0|       3|        3|       2130|   10517|     2|         0|  25|        2019|      2016|\n",
      "+--------------------+----------+----------+--------+--------+---------+-----------+--------+------+----------+----+------------+----------+\n",
      "only showing top 20 rows\n",
      "\n"
     ]
    }
   ],
   "source": [
    "## modify table schema\n",
    "\n",
    "df_with_year_with_modified_schema = df_with_year.withColumn(\"price\", col(\"price\").cast(FloatType())) \\\n",
    "    .withColumn(\"sqft_living\", col(\"sqft_living\").cast(IntegerType())) \\\n",
    "    .withColumn(\"sqft_lot\", col(\"sqft_lot\").cast(IntegerType())) \\\n",
    ".withColumn(\"bedrooms\", col(\"bedrooms\").cast(IntegerType())) \\\n",
    ".withColumn(\"bathrooms\", col(\"bathrooms\").cast(IntegerType())) \\\n",
    "    .withColumn(\"floors\", col(\"floors\").cast(IntegerType()))\n",
    "\n",
    "\n",
    "df_with_year_with_modified_schema.printSchema()\n",
    "\n",
    "df2 =df_with_year_with_modified_schema \n",
    "\n",
    "# Format the \"price\" column with 2 decimal places\n",
    "#df2 = df2.withColumn(\"price\", format_number(df2[\"price\"], 2))\n",
    "df2.show()"
   ]
  },
  {
   "cell_type": "code",
   "execution_count": 8,
   "metadata": {},
   "outputs": [
    {
     "name": "stderr",
     "output_type": "stream",
     "text": [
      "\r",
      "[Stage 4:>                                                          (0 + 1) / 1]\r"
     ]
    },
    {
     "name": "stdout",
     "output_type": "stream",
     "text": [
      "+------------+---------+\n",
      "|Year_of_sale|avg_price|\n",
      "+------------+---------+\n",
      "|        2022|296363.88|\n",
      "|        2019| 300263.7|\n",
      "|        2020|298353.78|\n",
      "|        2021|301819.44|\n",
      "+------------+---------+\n",
      "\n"
     ]
    },
    {
     "name": "stderr",
     "output_type": "stream",
     "text": [
      "\r",
      "                                                                                \r"
     ]
    }
   ],
   "source": [
    "# 3. What is the average price for a four bedroom house sold in each year rounded to two decimal places?\n",
    "\n",
    "# Register the DataFrame as a temporary view\n",
    "df2.createOrReplaceTempView(\"house_sales\")\n",
    "\n",
    "\n",
    "\n",
    "query = \"\"\"\n",
    "SELECT Year_of_sale, ROUND(AVG(price), 2) as avg_price\n",
    "FROM house_sales\n",
    "WHERE bedrooms = 4\n",
    "GROUP BY Year_of_sale\n",
    "\"\"\"\n",
    "spark.sql(query).show()\n",
    "\n"
   ]
  },
  {
   "cell_type": "code",
   "execution_count": 9,
   "metadata": {
    "colab": {
     "base_uri": "https://localhost:8080/"
    },
    "id": "l8p_tUS8h8it",
    "outputId": "65806e5f-6262-41c0-ff65-5107464e5c4d"
   },
   "outputs": [
    {
     "name": "stdout",
     "output_type": "stream",
     "text": [
      "+----------+---------+\n",
      "|date_built|avg_price|\n",
      "+----------+---------+\n",
      "|2010-01-01|292859.62|\n",
      "|2011-01-01|291117.47|\n",
      "|2012-01-01|293683.19|\n",
      "|2013-01-01|295962.27|\n",
      "|2014-01-01|290852.27|\n",
      "|2015-01-01| 288770.3|\n",
      "|2016-01-01|290555.07|\n",
      "|2017-01-01|292676.79|\n",
      "+----------+---------+\n",
      "\n"
     ]
    }
   ],
   "source": [
    "# 4. What is the average price of a home for each year the home was built that have 3 bedrooms and 3 bathrooms rounded to two decimal places?\n",
    "\n",
    "# Register the DataFrame as a temporary view\n",
    "df2.createOrReplaceTempView(\"house_sales\")\n",
    "\n",
    "query = \"\"\"\n",
    "SELECT date_built, ROUND(AVG(price), 2) as avg_price\n",
    "FROM house_sales\n",
    "WHERE bedrooms = 3 AND bathrooms = 3\n",
    "GROUP BY date_built\n",
    "ORDER BY date_built\n",
    "\"\"\"\n",
    "\n",
    "spark.sql(query).show()\n",
    "\n"
   ]
  },
  {
   "cell_type": "code",
   "execution_count": 10,
   "metadata": {
    "colab": {
     "base_uri": "https://localhost:8080/"
    },
    "id": "Y-Eytz64liDU",
    "outputId": "17119810-56ad-40c3-de5e-c3db57e43bcc"
   },
   "outputs": [
    {
     "name": "stdout",
     "output_type": "stream",
     "text": [
      "+----------+---------+\n",
      "|date_built|avg_price|\n",
      "+----------+---------+\n",
      "|2010-01-01|285010.22|\n",
      "|2011-01-01|276553.81|\n",
      "|2012-01-01|307539.97|\n",
      "|2013-01-01|303676.79|\n",
      "|2014-01-01|298264.72|\n",
      "|2015-01-01|297609.97|\n",
      "|2016-01-01| 293965.1|\n",
      "|2017-01-01|280317.58|\n",
      "+----------+---------+\n",
      "\n"
     ]
    }
   ],
   "source": [
    "#  5. What is the average price of a home for each year built that have 3 bedrooms, 3 bathrooms, with two floors,\n",
    "# and are greater than or equal to 2,000 square feet rounded to two decimal places?\n",
    "\n",
    "# Register the DataFrame as a temporary view\n",
    "df2.createOrReplaceTempView(\"house_sales\")\n",
    "\n",
    "query = \"\"\"\n",
    "SELECT date_built, ROUND(AVG(price), 2) as avg_price\n",
    "FROM house_sales\n",
    "WHERE bedrooms = 3 AND bathrooms = 3 AND floors = 2 AND sqft_living >= 2000 \n",
    "GROUP BY date_built\n",
    "ORDER BY date_built\n",
    "\"\"\"\n",
    "\n",
    "spark.sql(query).show()\n"
   ]
  },
  {
   "cell_type": "code",
   "execution_count": 11,
   "metadata": {
    "colab": {
     "base_uri": "https://localhost:8080/"
    },
    "id": "GUrfgOX1pCRd",
    "outputId": "17c25774-855e-4290-a4bd-a04902bdc13a"
   },
   "outputs": [
    {
     "name": "stdout",
     "output_type": "stream",
     "text": [
      "+----+---------+\n",
      "|view|avg_price|\n",
      "+----+---------+\n",
      "|   0|403848.51|\n",
      "|   1|401044.25|\n",
      "|  10|401868.43|\n",
      "| 100|1026669.5|\n",
      "|  11|399548.12|\n",
      "|  12|401501.32|\n",
      "|  13|398917.98|\n",
      "|  14|398570.03|\n",
      "|  15| 404673.3|\n",
      "|  16|399586.53|\n",
      "|  17|398474.49|\n",
      "|  18|399332.91|\n",
      "|  19|398953.17|\n",
      "|   2|397389.25|\n",
      "|  20|399522.81|\n",
      "|  21|399758.88|\n",
      "|  22|402022.68|\n",
      "|  23|403411.92|\n",
      "|  24|400284.92|\n",
      "|  25|401298.69|\n",
      "+----+---------+\n",
      "only showing top 20 rows\n",
      "\n",
      "--- 0.6378309726715088 seconds ---\n"
     ]
    }
   ],
   "source": [
    "# 6. What is the \"view\" rating for the average price of a home, rounded to two decimal places, where the homes are greater than\n",
    "# or equal to $350,000? Although this is a small dataset, determine the run time for this query.\n",
    "\n",
    "# Register the DataFrame as a temporary view\n",
    "\n",
    "df2.createOrReplaceTempView(\"house_sales\")\n",
    "\n",
    "start_time = time.time()\n",
    "\n",
    "query = \"\"\"\n",
    "SELECT view, ROUND(AVG(price), 2) as avg_price\n",
    "FROM house_sales\n",
    "WHERE price >= 350000\n",
    "GROUP BY view\n",
    "ORDER BY VIEW \n",
    "\n",
    "\"\"\"\n",
    "\n",
    "spark.sql(query).show()\n",
    "\n",
    "\n",
    "\n",
    "\n",
    "\n",
    "print(\"--- %s seconds ---\" % (time.time() - start_time))"
   ]
  },
  {
   "cell_type": "code",
   "execution_count": 12,
   "metadata": {
    "colab": {
     "base_uri": "https://localhost:8080/"
    },
    "id": "KAhk3ZD2tFy8",
    "outputId": "0a8f132d-40a8-4bd4-b5f2-2847e98427f5"
   },
   "outputs": [
    {
     "name": "stderr",
     "output_type": "stream",
     "text": [
      "                                                                                \r"
     ]
    },
    {
     "data": {
      "text/plain": [
       "DataFrame[]"
      ]
     },
     "execution_count": 12,
     "metadata": {},
     "output_type": "execute_result"
    }
   ],
   "source": [
    "# 7. Cache the the temporary table home_sales.\n",
    "home_sales = df2\n",
    "home_sales.createOrReplaceTempView(\"home_sales\")\n",
    "\n",
    "spark.sql(\"CACHE TABLE home_sales\")\n"
   ]
  },
  {
   "cell_type": "code",
   "execution_count": 13,
   "metadata": {
    "colab": {
     "base_uri": "https://localhost:8080/"
    },
    "id": "4opVhbvxtL-i",
    "outputId": "38ec8487-795f-4550-b50c-fcc6f2b7c769"
   },
   "outputs": [
    {
     "data": {
      "text/plain": [
       "True"
      ]
     },
     "execution_count": 13,
     "metadata": {},
     "output_type": "execute_result"
    }
   ],
   "source": [
    "# 8. Check if the table is cached.\n",
    "spark.catalog.isCached('home_sales')"
   ]
  },
  {
   "cell_type": "code",
   "execution_count": 21,
   "metadata": {
    "colab": {
     "base_uri": "https://localhost:8080/"
    },
    "id": "5GnL46lwTSEk",
    "outputId": "09a16c73-194d-4371-95d1-ee64fe83b91c"
   },
   "outputs": [
    {
     "name": "stdout",
     "output_type": "stream",
     "text": [
      "+----+---------+\n",
      "|view|avg_price|\n",
      "+----+---------+\n",
      "|   0|403848.51|\n",
      "|   1|401044.25|\n",
      "|  10|401868.43|\n",
      "| 100|1026669.5|\n",
      "|  11|399548.12|\n",
      "|  12|401501.32|\n",
      "|  13|398917.98|\n",
      "|  14|398570.03|\n",
      "|  15| 404673.3|\n",
      "|  16|399586.53|\n",
      "|  17|398474.49|\n",
      "|  18|399332.91|\n",
      "|  19|398953.17|\n",
      "|   2|397389.25|\n",
      "|  20|399522.81|\n",
      "|  21|399758.88|\n",
      "|  22|402022.68|\n",
      "|  23|403411.92|\n",
      "|  24|400284.92|\n",
      "|  25|401298.69|\n",
      "+----+---------+\n",
      "only showing top 20 rows\n",
      "\n",
      "--- 0.5363688468933105 seconds ---\n"
     ]
    }
   ],
   "source": [
    "# 9. Using the cached data, run the query that filters out the view ratings with average price \n",
    "#  greater than or equal to $350,000. Determine the runtime and compare it to uncached runtime.\n",
    "\n",
    "start_time = time.time()\n",
    "\n",
    "query = \"\"\"\n",
    "SELECT view, ROUND(AVG(price), 2) as avg_price\n",
    "FROM home_sales\n",
    "WHERE price >= 350000\n",
    "GROUP BY view\n",
    "ORDER BY VIEW \n",
    "\n",
    "\"\"\"\n",
    "\n",
    "spark.sql(query).show()\n",
    "\n",
    "\n",
    "\n",
    "\n",
    "\n",
    "\n",
    "print(\"--- %s seconds ---\" % (time.time() - start_time))\n"
   ]
  },
  {
   "cell_type": "markdown",
   "metadata": {},
   "source": [
    "The cached query on the cached file(home_sales) ran faster than the query on the uncashed file  ( .63 seconds vs .57 seconds)"
   ]
  },
  {
   "cell_type": "code",
   "execution_count": 15,
   "metadata": {
    "id": "Qm12WN9isHBR"
   },
   "outputs": [
    {
     "name": "stderr",
     "output_type": "stream",
     "text": [
      "                                                                                \r"
     ]
    }
   ],
   "source": [
    "# 10. Partition by the \"date_built\" field on the formatted parquet home sales data \n",
    "\n",
    "# Partition our data by UniqueCarrier\n",
    "home_sales.write.partitionBy(\"date_built\").mode(\"overwrite\").parquet(\"home_sales_delayed\")\n",
    "\n"
   ]
  },
  {
   "cell_type": "code",
   "execution_count": 16,
   "metadata": {
    "id": "AZ7BgY61sRqY"
   },
   "outputs": [
    {
     "name": "stdout",
     "output_type": "stream",
     "text": [
      "+--------------------+----------+--------+--------+---------+-----------+--------+------+----------+----+------------+----------+----------+\n",
      "|                  id|      date|   price|bedrooms|bathrooms|sqft_living|sqft_lot|floors|waterfront|view|Year_of_sale|Year_built|date_built|\n",
      "+--------------------+----------+--------+--------+---------+-----------+--------+------+----------+----+------------+----------+----------+\n",
      "|2ed8d509-7372-46d...|2021-08-06|258710.0|       3|        3|       1918|    9666|     1|         0|  25|        2021|      2015|2015-01-01|\n",
      "|941bad30-eb49-4a7...|2020-05-09|229896.0|       3|        3|       2197|    8641|     1|         0|   3|        2020|      2015|2015-01-01|\n",
      "|c797ca12-52cd-4b1...|2019-06-08|288650.0|       2|        3|       2100|   10419|     2|         0|   7|        2019|      2015|2015-01-01|\n",
      "|0cfe57f3-28c2-472...|2019-10-04|308313.0|       3|        3|       1960|    9453|     2|         0|   2|        2019|      2015|2015-01-01|\n",
      "|d715f295-2fbf-4e9...|2021-05-17|391574.0|       3|        2|       1635|    8040|     2|         0|  10|        2021|      2015|2015-01-01|\n",
      "|a18515a2-86f3-46b...|2022-02-18|419543.0|       3|        2|       1642|   12826|     2|         0|  24|        2022|      2015|2015-01-01|\n",
      "|98f6a9ad-8870-474...|2022-05-07|136752.0|       2|        3|       1701|   10771|     2|         0|   5|        2022|      2015|2015-01-01|\n",
      "|7ac67498-b6f3-403...|2021-05-12|349318.0|       4|        3|       2417|   11304|     2|         0|  37|        2021|      2015|2015-01-01|\n",
      "|c9bfdb1c-2499-4e3...|2021-12-07|268874.0|       2|        2|       1537|   12177|     1|         0|  10|        2021|      2015|2015-01-01|\n",
      "|34c31a34-220d-469...|2019-02-06|409011.0|       3|        3|       2356|   10507|     1|         0|   1|        2019|      2015|2015-01-01|\n",
      "|be0ccb95-415d-411...|2020-05-15|425154.0|       4|        3|       2120|   14229|     2|         0|   4|        2020|      2015|2015-01-01|\n",
      "|e9031a86-1294-444...|2021-10-09|222322.0|       4|        3|       1928|   10510|     1|         0|  38|        2021|      2015|2015-01-01|\n",
      "|e6d7c2a7-596e-4ec...|2019-03-15|131201.0|       4|        3|       1633|   14655|     1|         0|  22|        2019|      2015|2015-01-01|\n",
      "|6683714b-3df7-454...|2022-02-01|333403.0|       4|        2|       2059|    9793|     2|         0|   4|        2022|      2015|2015-01-01|\n",
      "|00fc996f-508c-430...|2021-07-15|373139.0|       3|        3|       1763|   11363|     1|         0|  39|        2021|      2015|2015-01-01|\n",
      "|3d5545f8-bd3b-476...|2020-09-19|797862.0|       4|        6|       3494|   10385|     2|         0|  90|        2020|      2015|2015-01-01|\n",
      "|ec6d357c-2435-43e...|2019-05-28|401792.0|       3|        2|       1627|   10765|     1|         0|  50|        2019|      2015|2015-01-01|\n",
      "|c2be38fb-814a-403...|2020-03-20|352237.0|       3|        3|       2485|   10954|     2|         0|   6|        2020|      2015|2015-01-01|\n",
      "|9570de1f-5a74-45b...|2021-11-29|298453.0|       3|        2|       2222|   10634|     1|         0|   6|        2021|      2015|2015-01-01|\n",
      "|1baeff4f-fc00-489...|2020-12-17|152775.0|       3|        2|       1623|   13851|     1|         0|  41|        2020|      2015|2015-01-01|\n",
      "+--------------------+----------+--------+--------+---------+-----------+--------+------+----------+----+------------+----------+----------+\n",
      "only showing top 20 rows\n",
      "\n"
     ]
    }
   ],
   "source": [
    "# 11. Read the formatted parquet data.\n",
    "p_df=spark.read.parquet('home_sales_delayed')\n",
    "p_df.show()"
   ]
  },
  {
   "cell_type": "code",
   "execution_count": 17,
   "metadata": {
    "id": "J6MJkHfvVcvh"
   },
   "outputs": [],
   "source": [
    "# 12. Create a temporary table for the parquet data.\n",
    "\n",
    "p_df.createOrReplaceTempView(\"home_sales_delayed_table\")\n"
   ]
  },
  {
   "cell_type": "code",
   "execution_count": 18,
   "metadata": {
    "colab": {
     "base_uri": "https://localhost:8080/"
    },
    "id": "G_Vhb52rU1Sn",
    "outputId": "a0b8d0c4-55ed-4c6c-bfd8-4c8c5334838e"
   },
   "outputs": [
    {
     "name": "stderr",
     "output_type": "stream",
     "text": [
      "\r",
      "[Stage 25:>                                                         (0 + 8) / 8]\r"
     ]
    },
    {
     "name": "stdout",
     "output_type": "stream",
     "text": [
      "+----+---------+\n",
      "|view|avg_price|\n",
      "+----+---------+\n",
      "|   0|403848.51|\n",
      "|   1|401044.25|\n",
      "|  10|401868.43|\n",
      "| 100|1026669.5|\n",
      "|  11|399548.12|\n",
      "|  12|401501.32|\n",
      "|  13|398917.98|\n",
      "|  14|398570.03|\n",
      "|  15| 404673.3|\n",
      "|  16|399586.53|\n",
      "|  17|398474.49|\n",
      "|  18|399332.91|\n",
      "|  19|398953.17|\n",
      "|   2|397389.25|\n",
      "|  20|399522.81|\n",
      "|  21|399758.88|\n",
      "|  22|402022.68|\n",
      "|  23|403411.92|\n",
      "|  24|400284.92|\n",
      "|  25|401298.69|\n",
      "+----+---------+\n",
      "only showing top 20 rows\n",
      "\n",
      "--- 1.7523009777069092 seconds ---\n"
     ]
    },
    {
     "name": "stderr",
     "output_type": "stream",
     "text": [
      "\r",
      "                                                                                \r"
     ]
    }
   ],
   "source": [
    "# 13. Run the query that filters out the view ratings with average price of greater than or eqaul to $350,000 \n",
    "# with the parquet DataFrame. Round your average to two decimal places. \n",
    "# Determine the runtime and compare it to the cached version. \n",
    "start_time = time.time()\n",
    "\n",
    "query = \"\"\"\n",
    "SELECT view, ROUND(AVG(price), 2) as avg_price\n",
    "FROM home_sales_delayed_table\n",
    "WHERE price >= 350000\n",
    "GROUP BY view\n",
    "ORDER BY VIEW \n",
    "\n",
    "\"\"\"\n",
    "\n",
    "spark.sql(query).show()\n",
    "\n",
    "\n",
    "print(\"--- %s seconds ---\" % (time.time() - start_time))"
   ]
  },
  {
   "cell_type": "code",
   "execution_count": 22,
   "metadata": {
    "colab": {
     "base_uri": "https://localhost:8080/"
    },
    "id": "hjjYzQGjtbq8",
    "outputId": "830549fd-bb41-451b-9183-5ebf6e3e470b"
   },
   "outputs": [],
   "source": [
    "# 14. Uncache the home_sales temporary table.\n",
    "spark.catalog.uncacheTable(\"home_sales\")"
   ]
  },
  {
   "cell_type": "code",
   "execution_count": 23,
   "metadata": {
    "colab": {
     "base_uri": "https://localhost:8080/"
    },
    "id": "Sy9NBvO7tlmm",
    "outputId": "be73e0e3-5e85-4794-aad9-025fb6fa84a7"
   },
   "outputs": [
    {
     "data": {
      "text/plain": [
       "False"
      ]
     },
     "execution_count": 23,
     "metadata": {},
     "output_type": "execute_result"
    }
   ],
   "source": [
    "# 15. Check if the home_sales is no longer cached\n",
    "\n",
    "spark.catalog.isCached('home_sales')"
   ]
  },
  {
   "cell_type": "code",
   "execution_count": null,
   "metadata": {},
   "outputs": [],
   "source": []
  }
 ],
 "metadata": {
  "colab": {
   "collapsed_sections": [],
   "name": "Copy of Home_Sales_solution.ipynb",
   "provenance": []
  },
  "kernelspec": {
   "display_name": "Python 3 (ipykernel)",
   "language": "python",
   "name": "python3"
  },
  "language_info": {
   "codemirror_mode": {
    "name": "ipython",
    "version": 3
   },
   "file_extension": ".py",
   "mimetype": "text/x-python",
   "name": "python",
   "nbconvert_exporter": "python",
   "pygments_lexer": "ipython3",
   "version": "3.10.9"
  },
  "nteract": {
   "version": "0.28.0"
  }
 },
 "nbformat": 4,
 "nbformat_minor": 1
}
